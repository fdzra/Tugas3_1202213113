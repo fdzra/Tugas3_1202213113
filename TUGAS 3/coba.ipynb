{
 "cells": [
  {
   "cell_type": "code",
   "execution_count": 394,
   "metadata": {},
   "outputs": [],
   "source": [
    "import graphene"
   ]
  },
  {
   "cell_type": "code",
   "execution_count": 395,
   "metadata": {},
   "outputs": [],
   "source": [
    "class Book(graphene.ObjectType):\n",
    "  id =  graphene.ID()\n",
    "  title = graphene.String()\n",
    "\n",
    "class Query(graphene.ObjectType):\n",
    "  book = graphene.Field(Book) \n",
    "  books = graphene.List(Book)\n",
    "\n",
    "  def resolve_book(self, info):\n",
    "    return Book(id=\"1\",title=\"Buku 1\")\n",
    "  \n",
    "  #menampilkan semua buku\n",
    "  def resolve_books(self,info):\n",
    "    return [\n",
    "        Book(id='1',title='Buku 1'),\n",
    "        Book(id='2',title='Buku 2'),\n",
    "        Book(id='3',title='Buku 3')\n",
    "    ]\n",
    "\n",
    "#membuat skema untuk mengambil kelas query nya tadi\n",
    "schema = graphene.Schema(query=Query)\n"
   ]
  },
  {
   "cell_type": "markdown",
   "metadata": {},
   "source": [
    "### 1. Test 1 Buku "
   ]
  },
  {
   "cell_type": "code",
   "execution_count": 396,
   "metadata": {},
   "outputs": [
    {
     "name": "stdout",
     "output_type": "stream",
     "text": [
      "{'book': {'id': '1', 'title': 'Buku 1'}}\n"
     ]
    }
   ],
   "source": [
    "#mengambil data menggunakan query \n",
    "q = '''\n",
    "{\n",
    "    book {\n",
    "        id\n",
    "        title\n",
    "    }\n",
    "}\n",
    "'''\n",
    "result = schema.execute(q)\n",
    "print(result.data)\n",
    "\n",
    "### 1. Test Satu BUKU"
   ]
  },
  {
   "cell_type": "markdown",
   "metadata": {},
   "source": [
    "### 2. Test All Buku\n"
   ]
  },
  {
   "cell_type": "code",
   "execution_count": 397,
   "metadata": {},
   "outputs": [
    {
     "name": "stdout",
     "output_type": "stream",
     "text": [
      "{'books': [{'id': '1', 'title': 'Buku 1'}, {'id': '2', 'title': 'Buku 2'}, {'id': '3', 'title': 'Buku 3'}]}\n"
     ]
    }
   ],
   "source": [
    "#mengambil data menggunakan query \n",
    "q = '''\n",
    "{\n",
    "    books {\n",
    "        id\n",
    "        title\n",
    "    }\n",
    "}\n",
    "'''\n",
    "result = schema.execute(q)\n",
    "print(result.data)"
   ]
  },
  {
   "cell_type": "markdown",
   "metadata": {},
   "source": [
    "#### Update Data"
   ]
  },
  {
   "cell_type": "code",
   "execution_count": 398,
   "metadata": {},
   "outputs": [],
   "source": [
    "data = [\n",
    "    {\"id\": '1', \"title\": 'Buku 1'},\n",
    "    {\"id\": '2', \"title\": 'Buku 2'},\n",
    "    {\"id\": '3', \"title\": 'Buku 3'},\n",
    "    {\"id\": '4', \"title\": 'Buku 4'},\n",
    "    {\"id\": '5', \"title\": 'Buku 5'},\n",
    "]"
   ]
  },
  {
   "cell_type": "code",
   "execution_count": 399,
   "metadata": {},
   "outputs": [
    {
     "data": {
      "text/plain": [
       "{'id': '2', 'title': 'Buku 2'}"
      ]
     },
     "execution_count": 399,
     "metadata": {},
     "output_type": "execute_result"
    }
   ],
   "source": [
    "##mengambil indeks ke n \n",
    "data [1]"
   ]
  },
  {
   "cell_type": "code",
   "execution_count": 400,
   "metadata": {},
   "outputs": [],
   "source": [
    "import json"
   ]
  },
  {
   "cell_type": "code",
   "execution_count": 401,
   "metadata": {},
   "outputs": [
    {
     "name": "stdout",
     "output_type": "stream",
     "text": [
      "{\n",
      "   \"bookById\": {\n",
      "      \"id\": \"1\",\n",
      "      \"title\": \"Buku 1\"\n",
      "   },\n",
      "   \"bookByTitle\": null\n",
      "}\n"
     ]
    }
   ],
   "source": [
    "class Book(graphene.ObjectType):\n",
    "    id = graphene.ID()\n",
    "    title = graphene.String()\n",
    "\n",
    "class Query(graphene.ObjectType):\n",
    "    book = graphene.Field(Book)\n",
    "    books = graphene.List(Book)\n",
    "    book_by_id = graphene.Field(Book, id=graphene.ID())\n",
    "    book_by_title = graphene.Field(Book, title=graphene.String())\n",
    "\n",
    "    def resolve_book(self, info):\n",
    "        return Book(id=data[2][\"id\"], title=data[2]['title'])\n",
    "  \n",
    "    def resolve_books(self, info):\n",
    "        # Mengembalikan daftar objek Book langsung dari data\n",
    "        return [Book(id=i[\"id\"], title=i[\"title\"]) for i in data]\n",
    "    \n",
    "    def resolve_book_by_id(self, info, id):\n",
    "        for i in data:\n",
    "            if i[\"id\"] == id:\n",
    "                return Book(id=i[\"id\"], title=i['title'])\n",
    "\n",
    "        return None\n",
    "\n",
    "    def resolve_book_by_title(self, info, title):\n",
    "        for i in data:\n",
    "            if i[\"title\"] == title:\n",
    "                return Book(id=i[\"id\"], title=i['title'])\n",
    "\n",
    "        return None  \n",
    "\n",
    "# Membuat skema untuk mengambil kelas query\n",
    "schema = graphene.Schema(query=Query)\n",
    "\n",
    "# Mengambil data menggunakan query\n",
    "q = '''\n",
    "{\n",
    "    bookById(id: \"1\"){\n",
    "        id\n",
    "        title\n",
    "    }\n",
    "    bookByTitle(title: \"buku 1\"){\n",
    "        id\n",
    "        title\n",
    "    }\n",
    "}\n",
    "'''\n",
    "\n",
    "result = schema.execute(q)\n",
    "output = json.dumps(result.data, indent=3)\n",
    "print(output)\n"
   ]
  }
 ],
 "metadata": {
  "kernelspec": {
   "display_name": "graphql",
   "language": "python",
   "name": "python3"
  },
  "language_info": {
   "codemirror_mode": {
    "name": "ipython",
    "version": 3
   },
   "file_extension": ".py",
   "mimetype": "text/x-python",
   "name": "python",
   "nbconvert_exporter": "python",
   "pygments_lexer": "ipython3",
   "version": "3.12.2"
  }
 },
 "nbformat": 4,
 "nbformat_minor": 2
}
